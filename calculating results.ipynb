{
 "cells": [
  {
   "cell_type": "code",
   "execution_count": 1,
   "metadata": {
    "ExecuteTime": {
     "end_time": "2020-03-03T02:21:16.693988Z",
     "start_time": "2020-03-03T02:21:15.608851Z"
    }
   },
   "outputs": [],
   "source": [
    "import pandas as pd\n",
    "import csv"
   ]
  },
  {
   "cell_type": "code",
   "execution_count": 2,
   "metadata": {
    "ExecuteTime": {
     "end_time": "2020-03-03T02:21:16.807318Z",
     "start_time": "2020-03-03T02:21:16.695296Z"
    }
   },
   "outputs": [
    {
     "data": {
      "text/html": [
       "<div>\n",
       "<style scoped>\n",
       "    .dataframe tbody tr th:only-of-type {\n",
       "        vertical-align: middle;\n",
       "    }\n",
       "\n",
       "    .dataframe tbody tr th {\n",
       "        vertical-align: top;\n",
       "    }\n",
       "\n",
       "    .dataframe thead th {\n",
       "        text-align: right;\n",
       "    }\n",
       "</style>\n",
       "<table border=\"1\" class=\"dataframe\">\n",
       "  <thead>\n",
       "    <tr style=\"text-align: right;\">\n",
       "      <th></th>\n",
       "      <th>Codigo foto</th>\n",
       "      <th>Carpeta/Subcarpeta</th>\n",
       "      <th>Camara usada</th>\n",
       "      <th>Fecha</th>\n",
       "      <th>Familia</th>\n",
       "      <th>Genero</th>\n",
       "      <th>Especie</th>\n",
       "      <th>Nombre cientifico</th>\n",
       "      <th>Código/ ID del individuo*</th>\n",
       "      <th>Descripcion o Ubicacion</th>\n",
       "      <th>Quebrada-transecto</th>\n",
       "      <th>Colectores</th>\n",
       "      <th>Metodo de captura</th>\n",
       "    </tr>\n",
       "  </thead>\n",
       "  <tbody>\n",
       "    <tr>\n",
       "      <th>0</th>\n",
       "      <td>DSC_0164 - DSC_0165</td>\n",
       "      <td>Morona 3ra entrada 2019,nov</td>\n",
       "      <td>Nikon D 3500</td>\n",
       "      <td>Wed Nov 20 00:00:00 EST 2019</td>\n",
       "      <td>Characidae</td>\n",
       "      <td>Moenkhausia</td>\n",
       "      <td>sp. 1</td>\n",
       "      <td>Moenkhausia sp. 1</td>\n",
       "      <td>T1-CV1QCH-01</td>\n",
       "      <td>Chapintsa</td>\n",
       "      <td>T1-30-50</td>\n",
       "      <td>Morgan, Leo, Peas y wilson</td>\n",
       "      <td>Red de arrastre y red de mano</td>\n",
       "    </tr>\n",
       "    <tr>\n",
       "      <th>1</th>\n",
       "      <td>DSC_0166 - DSC_0167</td>\n",
       "      <td>Morona 3ra entrada 2019,nov</td>\n",
       "      <td>Nikon D 3500</td>\n",
       "      <td>Wed Nov 20 00:00:00 EST 2019</td>\n",
       "      <td>Cichlidae</td>\n",
       "      <td>Laetacara</td>\n",
       "      <td>flavilabris</td>\n",
       "      <td>Laetacara flavilabris</td>\n",
       "      <td>T1-CV1QCH-02</td>\n",
       "      <td>Chapintsa</td>\n",
       "      <td>T1-30-50</td>\n",
       "      <td>Morgan, Leo, Peas y wilson</td>\n",
       "      <td>Red de arrastre y red de mano</td>\n",
       "    </tr>\n",
       "    <tr>\n",
       "      <th>2</th>\n",
       "      <td>DSC_0168 - DSC_0169</td>\n",
       "      <td>Morona 3ra entrada 2019,nov</td>\n",
       "      <td>Nikon D 3500</td>\n",
       "      <td>Wed Nov 20 00:00:00 EST 2019</td>\n",
       "      <td>Callichthyidae</td>\n",
       "      <td>Corydoras</td>\n",
       "      <td>aeneus</td>\n",
       "      <td>Corydoras aeneus</td>\n",
       "      <td>T1-CV1QCH-03</td>\n",
       "      <td>Chapintsa</td>\n",
       "      <td>T1-30-50</td>\n",
       "      <td>Morgan, Leo, Peas y wilson</td>\n",
       "      <td>Red de arrastre y red de mano</td>\n",
       "    </tr>\n",
       "    <tr>\n",
       "      <th>3</th>\n",
       "      <td>DSC_0170 - DSC_0171</td>\n",
       "      <td>Morona 3ra entrada 2019,nov</td>\n",
       "      <td>Nikon D 3500</td>\n",
       "      <td>Wed Nov 20 00:00:00 EST 2019</td>\n",
       "      <td>Cichlidae</td>\n",
       "      <td>Laetacara</td>\n",
       "      <td>flavilabris</td>\n",
       "      <td>Laetacara flavilabris</td>\n",
       "      <td>T1-CV1QCH-04</td>\n",
       "      <td>Chapintsa</td>\n",
       "      <td>T1-30-50</td>\n",
       "      <td>Morgan, Leo, Peas y wilson</td>\n",
       "      <td>Red de arrastre y red de mano</td>\n",
       "    </tr>\n",
       "    <tr>\n",
       "      <th>4</th>\n",
       "      <td>DSC_0172 - DSC_0173</td>\n",
       "      <td>Morona 3ra entrada 2019,nov</td>\n",
       "      <td>Nikon D 3500</td>\n",
       "      <td>Wed Nov 20 00:00:00 EST 2019</td>\n",
       "      <td>Characidae</td>\n",
       "      <td>Moenkhausia</td>\n",
       "      <td>sp. 1</td>\n",
       "      <td>Moenkhausia sp. 1</td>\n",
       "      <td>T1-CV1QCH-05</td>\n",
       "      <td>Chapintsa</td>\n",
       "      <td>T1-30-50</td>\n",
       "      <td>Morgan, Leo, Peas y wilson</td>\n",
       "      <td>Red de arrastre y red de mano</td>\n",
       "    </tr>\n",
       "  </tbody>\n",
       "</table>\n",
       "</div>"
      ],
      "text/plain": [
       "           Codigo foto           Carpeta/Subcarpeta  Camara usada  \\\n",
       "0  DSC_0164 - DSC_0165  Morona 3ra entrada 2019,nov  Nikon D 3500   \n",
       "1  DSC_0166 - DSC_0167  Morona 3ra entrada 2019,nov  Nikon D 3500   \n",
       "2  DSC_0168 - DSC_0169  Morona 3ra entrada 2019,nov  Nikon D 3500   \n",
       "3  DSC_0170 - DSC_0171  Morona 3ra entrada 2019,nov  Nikon D 3500   \n",
       "4  DSC_0172 - DSC_0173  Morona 3ra entrada 2019,nov  Nikon D 3500   \n",
       "\n",
       "                          Fecha         Familia       Genero      Especie  \\\n",
       "0  Wed Nov 20 00:00:00 EST 2019      Characidae  Moenkhausia        sp. 1   \n",
       "1  Wed Nov 20 00:00:00 EST 2019       Cichlidae    Laetacara  flavilabris   \n",
       "2  Wed Nov 20 00:00:00 EST 2019  Callichthyidae    Corydoras       aeneus   \n",
       "3  Wed Nov 20 00:00:00 EST 2019       Cichlidae    Laetacara  flavilabris   \n",
       "4  Wed Nov 20 00:00:00 EST 2019      Characidae  Moenkhausia        sp. 1   \n",
       "\n",
       "       Nombre cientifico Código/ ID del individuo* Descripcion o Ubicacion  \\\n",
       "0      Moenkhausia sp. 1              T1-CV1QCH-01               Chapintsa   \n",
       "1  Laetacara flavilabris              T1-CV1QCH-02               Chapintsa   \n",
       "2       Corydoras aeneus              T1-CV1QCH-03               Chapintsa   \n",
       "3  Laetacara flavilabris              T1-CV1QCH-04               Chapintsa   \n",
       "4      Moenkhausia sp. 1              T1-CV1QCH-05               Chapintsa   \n",
       "\n",
       "  Quebrada-transecto                   Colectores  \\\n",
       "0           T1-30-50  Morgan, Leo, Peas y wilson    \n",
       "1           T1-30-50  Morgan, Leo, Peas y wilson    \n",
       "2           T1-30-50  Morgan, Leo, Peas y wilson    \n",
       "3           T1-30-50  Morgan, Leo, Peas y wilson    \n",
       "4           T1-30-50  Morgan, Leo, Peas y wilson    \n",
       "\n",
       "               Metodo de captura  \n",
       "0  Red de arrastre y red de mano  \n",
       "1  Red de arrastre y red de mano  \n",
       "2  Red de arrastre y red de mano  \n",
       "3  Red de arrastre y red de mano  \n",
       "4  Red de arrastre y red de mano  "
      ]
     },
     "execution_count": 2,
     "metadata": {},
     "output_type": "execute_result"
    }
   ],
   "source": [
    "original_excel = pd.read_excel('Base de fotos entrada 3 Morona2019 FINAL.xlsx')\n",
    "original_excel.head()"
   ]
  },
  {
   "cell_type": "code",
   "execution_count": 3,
   "metadata": {
    "ExecuteTime": {
     "end_time": "2020-03-03T02:21:16.884029Z",
     "start_time": "2020-03-03T02:21:16.809440Z"
    }
   },
   "outputs": [],
   "source": [
    "expanded_rows = []\n",
    "for index, row in original_excel.iterrows():\n",
    "    row_dict = row.to_dict()\n",
    "    codigo = row_dict['Codigo foto']\n",
    "    if '-' in codigo:\n",
    "        codigo_split = codigo.split('-')\n",
    "        codigo_start = codigo_split[0].strip()\n",
    "        codigo_end = codigo_split[1].strip()\n",
    "        num_start = int(codigo_start.split('_')[1])\n",
    "        num_end = int(codigo_end.split('_')[1])\n",
    "        for num in range(num_start, (num_end + 1)):\n",
    "            extra_row = row_dict.copy()\n",
    "            foto_codigo = 'DSC_' + str(num).zfill(4)\n",
    "            extra_row['file_name'] = foto_codigo + '.JPG'\n",
    "            expanded_rows.append(extra_row)\n",
    "    else:\n",
    "        expanded_rows.append(row_dict)\n",
    "expanded_df = pd.DataFrame(expanded_rows)"
   ]
  },
  {
   "cell_type": "code",
   "execution_count": 4,
   "metadata": {
    "ExecuteTime": {
     "end_time": "2020-03-03T02:21:16.899554Z",
     "start_time": "2020-03-03T02:21:16.885937Z"
    }
   },
   "outputs": [
    {
     "data": {
      "text/html": [
       "<div>\n",
       "<style scoped>\n",
       "    .dataframe tbody tr th:only-of-type {\n",
       "        vertical-align: middle;\n",
       "    }\n",
       "\n",
       "    .dataframe tbody tr th {\n",
       "        vertical-align: top;\n",
       "    }\n",
       "\n",
       "    .dataframe thead th {\n",
       "        text-align: right;\n",
       "    }\n",
       "</style>\n",
       "<table border=\"1\" class=\"dataframe\">\n",
       "  <thead>\n",
       "    <tr style=\"text-align: right;\">\n",
       "      <th></th>\n",
       "      <th>Codigo foto</th>\n",
       "      <th>Carpeta/Subcarpeta</th>\n",
       "      <th>Camara usada</th>\n",
       "      <th>Fecha</th>\n",
       "      <th>Familia</th>\n",
       "      <th>Genero</th>\n",
       "      <th>Especie</th>\n",
       "      <th>Nombre cientifico</th>\n",
       "      <th>Código/ ID del individuo*</th>\n",
       "      <th>Descripcion o Ubicacion</th>\n",
       "      <th>Quebrada-transecto</th>\n",
       "      <th>Colectores</th>\n",
       "      <th>Metodo de captura</th>\n",
       "      <th>file_name</th>\n",
       "    </tr>\n",
       "  </thead>\n",
       "  <tbody>\n",
       "    <tr>\n",
       "      <th>0</th>\n",
       "      <td>DSC_0164 - DSC_0165</td>\n",
       "      <td>Morona 3ra entrada 2019,nov</td>\n",
       "      <td>Nikon D 3500</td>\n",
       "      <td>Wed Nov 20 00:00:00 EST 2019</td>\n",
       "      <td>Characidae</td>\n",
       "      <td>Moenkhausia</td>\n",
       "      <td>sp. 1</td>\n",
       "      <td>Moenkhausia sp. 1</td>\n",
       "      <td>T1-CV1QCH-01</td>\n",
       "      <td>Chapintsa</td>\n",
       "      <td>T1-30-50</td>\n",
       "      <td>Morgan, Leo, Peas y wilson</td>\n",
       "      <td>Red de arrastre y red de mano</td>\n",
       "      <td>DSC_0164.JPG</td>\n",
       "    </tr>\n",
       "    <tr>\n",
       "      <th>1</th>\n",
       "      <td>DSC_0164 - DSC_0165</td>\n",
       "      <td>Morona 3ra entrada 2019,nov</td>\n",
       "      <td>Nikon D 3500</td>\n",
       "      <td>Wed Nov 20 00:00:00 EST 2019</td>\n",
       "      <td>Characidae</td>\n",
       "      <td>Moenkhausia</td>\n",
       "      <td>sp. 1</td>\n",
       "      <td>Moenkhausia sp. 1</td>\n",
       "      <td>T1-CV1QCH-01</td>\n",
       "      <td>Chapintsa</td>\n",
       "      <td>T1-30-50</td>\n",
       "      <td>Morgan, Leo, Peas y wilson</td>\n",
       "      <td>Red de arrastre y red de mano</td>\n",
       "      <td>DSC_0165.JPG</td>\n",
       "    </tr>\n",
       "    <tr>\n",
       "      <th>2</th>\n",
       "      <td>DSC_0166 - DSC_0167</td>\n",
       "      <td>Morona 3ra entrada 2019,nov</td>\n",
       "      <td>Nikon D 3500</td>\n",
       "      <td>Wed Nov 20 00:00:00 EST 2019</td>\n",
       "      <td>Cichlidae</td>\n",
       "      <td>Laetacara</td>\n",
       "      <td>flavilabris</td>\n",
       "      <td>Laetacara flavilabris</td>\n",
       "      <td>T1-CV1QCH-02</td>\n",
       "      <td>Chapintsa</td>\n",
       "      <td>T1-30-50</td>\n",
       "      <td>Morgan, Leo, Peas y wilson</td>\n",
       "      <td>Red de arrastre y red de mano</td>\n",
       "      <td>DSC_0166.JPG</td>\n",
       "    </tr>\n",
       "    <tr>\n",
       "      <th>3</th>\n",
       "      <td>DSC_0166 - DSC_0167</td>\n",
       "      <td>Morona 3ra entrada 2019,nov</td>\n",
       "      <td>Nikon D 3500</td>\n",
       "      <td>Wed Nov 20 00:00:00 EST 2019</td>\n",
       "      <td>Cichlidae</td>\n",
       "      <td>Laetacara</td>\n",
       "      <td>flavilabris</td>\n",
       "      <td>Laetacara flavilabris</td>\n",
       "      <td>T1-CV1QCH-02</td>\n",
       "      <td>Chapintsa</td>\n",
       "      <td>T1-30-50</td>\n",
       "      <td>Morgan, Leo, Peas y wilson</td>\n",
       "      <td>Red de arrastre y red de mano</td>\n",
       "      <td>DSC_0167.JPG</td>\n",
       "    </tr>\n",
       "    <tr>\n",
       "      <th>4</th>\n",
       "      <td>DSC_0168 - DSC_0169</td>\n",
       "      <td>Morona 3ra entrada 2019,nov</td>\n",
       "      <td>Nikon D 3500</td>\n",
       "      <td>Wed Nov 20 00:00:00 EST 2019</td>\n",
       "      <td>Callichthyidae</td>\n",
       "      <td>Corydoras</td>\n",
       "      <td>aeneus</td>\n",
       "      <td>Corydoras aeneus</td>\n",
       "      <td>T1-CV1QCH-03</td>\n",
       "      <td>Chapintsa</td>\n",
       "      <td>T1-30-50</td>\n",
       "      <td>Morgan, Leo, Peas y wilson</td>\n",
       "      <td>Red de arrastre y red de mano</td>\n",
       "      <td>DSC_0168.JPG</td>\n",
       "    </tr>\n",
       "  </tbody>\n",
       "</table>\n",
       "</div>"
      ],
      "text/plain": [
       "           Codigo foto           Carpeta/Subcarpeta  Camara usada  \\\n",
       "0  DSC_0164 - DSC_0165  Morona 3ra entrada 2019,nov  Nikon D 3500   \n",
       "1  DSC_0164 - DSC_0165  Morona 3ra entrada 2019,nov  Nikon D 3500   \n",
       "2  DSC_0166 - DSC_0167  Morona 3ra entrada 2019,nov  Nikon D 3500   \n",
       "3  DSC_0166 - DSC_0167  Morona 3ra entrada 2019,nov  Nikon D 3500   \n",
       "4  DSC_0168 - DSC_0169  Morona 3ra entrada 2019,nov  Nikon D 3500   \n",
       "\n",
       "                          Fecha         Familia       Genero      Especie  \\\n",
       "0  Wed Nov 20 00:00:00 EST 2019      Characidae  Moenkhausia        sp. 1   \n",
       "1  Wed Nov 20 00:00:00 EST 2019      Characidae  Moenkhausia        sp. 1   \n",
       "2  Wed Nov 20 00:00:00 EST 2019       Cichlidae    Laetacara  flavilabris   \n",
       "3  Wed Nov 20 00:00:00 EST 2019       Cichlidae    Laetacara  flavilabris   \n",
       "4  Wed Nov 20 00:00:00 EST 2019  Callichthyidae    Corydoras       aeneus   \n",
       "\n",
       "       Nombre cientifico Código/ ID del individuo* Descripcion o Ubicacion  \\\n",
       "0      Moenkhausia sp. 1              T1-CV1QCH-01               Chapintsa   \n",
       "1      Moenkhausia sp. 1              T1-CV1QCH-01               Chapintsa   \n",
       "2  Laetacara flavilabris              T1-CV1QCH-02               Chapintsa   \n",
       "3  Laetacara flavilabris              T1-CV1QCH-02               Chapintsa   \n",
       "4       Corydoras aeneus              T1-CV1QCH-03               Chapintsa   \n",
       "\n",
       "  Quebrada-transecto                   Colectores  \\\n",
       "0           T1-30-50  Morgan, Leo, Peas y wilson    \n",
       "1           T1-30-50  Morgan, Leo, Peas y wilson    \n",
       "2           T1-30-50  Morgan, Leo, Peas y wilson    \n",
       "3           T1-30-50  Morgan, Leo, Peas y wilson    \n",
       "4           T1-30-50  Morgan, Leo, Peas y wilson    \n",
       "\n",
       "               Metodo de captura     file_name  \n",
       "0  Red de arrastre y red de mano  DSC_0164.JPG  \n",
       "1  Red de arrastre y red de mano  DSC_0165.JPG  \n",
       "2  Red de arrastre y red de mano  DSC_0166.JPG  \n",
       "3  Red de arrastre y red de mano  DSC_0167.JPG  \n",
       "4  Red de arrastre y red de mano  DSC_0168.JPG  "
      ]
     },
     "execution_count": 4,
     "metadata": {},
     "output_type": "execute_result"
    }
   ],
   "source": [
    "expanded_df.head()"
   ]
  },
  {
   "cell_type": "code",
   "execution_count": 5,
   "metadata": {
    "ExecuteTime": {
     "end_time": "2020-03-03T02:21:16.904458Z",
     "start_time": "2020-03-03T02:21:16.900836Z"
    }
   },
   "outputs": [
    {
     "data": {
      "text/plain": [
       "1068"
      ]
     },
     "execution_count": 5,
     "metadata": {},
     "output_type": "execute_result"
    }
   ],
   "source": [
    "len(expanded_df)"
   ]
  },
  {
   "cell_type": "code",
   "execution_count": 6,
   "metadata": {
    "ExecuteTime": {
     "end_time": "2020-03-03T02:21:16.924078Z",
     "start_time": "2020-03-03T02:21:16.906336Z"
    }
   },
   "outputs": [
    {
     "data": {
      "text/html": [
       "<div>\n",
       "<style scoped>\n",
       "    .dataframe tbody tr th:only-of-type {\n",
       "        vertical-align: middle;\n",
       "    }\n",
       "\n",
       "    .dataframe tbody tr th {\n",
       "        vertical-align: top;\n",
       "    }\n",
       "\n",
       "    .dataframe thead th {\n",
       "        text-align: right;\n",
       "    }\n",
       "</style>\n",
       "<table border=\"1\" class=\"dataframe\">\n",
       "  <thead>\n",
       "    <tr style=\"text-align: right;\">\n",
       "      <th></th>\n",
       "      <th>file_name</th>\n",
       "      <th>class_1</th>\n",
       "      <th>conf_1</th>\n",
       "      <th>class_2</th>\n",
       "      <th>conf_2</th>\n",
       "      <th>class_3</th>\n",
       "      <th>conf_3</th>\n",
       "      <th>class_4</th>\n",
       "      <th>conf_4</th>\n",
       "      <th>class_5</th>\n",
       "      <th>conf_5</th>\n",
       "    </tr>\n",
       "  </thead>\n",
       "  <tbody>\n",
       "    <tr>\n",
       "      <th>0</th>\n",
       "      <td>DSC_1318.JPG</td>\n",
       "      <td>Tatia</td>\n",
       "      <td>26.972580</td>\n",
       "      <td>Ancistrus</td>\n",
       "      <td>25.828689</td>\n",
       "      <td>Erythrinus</td>\n",
       "      <td>17.470473</td>\n",
       "      <td>Corydoras</td>\n",
       "      <td>17.456527</td>\n",
       "      <td>Pimelodella</td>\n",
       "      <td>3.097814</td>\n",
       "    </tr>\n",
       "    <tr>\n",
       "      <th>1</th>\n",
       "      <td>DSC_0735.JPG</td>\n",
       "      <td>Phenacogaster</td>\n",
       "      <td>88.905293</td>\n",
       "      <td>Moenkhausia</td>\n",
       "      <td>6.524772</td>\n",
       "      <td>Hyphessobrycon</td>\n",
       "      <td>3.306469</td>\n",
       "      <td>Astyanax</td>\n",
       "      <td>0.330312</td>\n",
       "      <td>Tyttocharax</td>\n",
       "      <td>0.280693</td>\n",
       "    </tr>\n",
       "    <tr>\n",
       "      <th>2</th>\n",
       "      <td>DSC_0728.JPG</td>\n",
       "      <td>Moenkhausia</td>\n",
       "      <td>33.746868</td>\n",
       "      <td>Hemigrammus</td>\n",
       "      <td>31.196511</td>\n",
       "      <td>Charax</td>\n",
       "      <td>10.753255</td>\n",
       "      <td>Creagrutus</td>\n",
       "      <td>9.553058</td>\n",
       "      <td>Bryconops</td>\n",
       "      <td>7.096016</td>\n",
       "    </tr>\n",
       "    <tr>\n",
       "      <th>3</th>\n",
       "      <td>DSC_1206.JPG</td>\n",
       "      <td>Pyrrhulina</td>\n",
       "      <td>34.069294</td>\n",
       "      <td>Moenkhausia</td>\n",
       "      <td>29.149905</td>\n",
       "      <td>Phenacogaster</td>\n",
       "      <td>20.571911</td>\n",
       "      <td>Astyanax</td>\n",
       "      <td>11.253992</td>\n",
       "      <td>Hyphessobrycon</td>\n",
       "      <td>1.750551</td>\n",
       "    </tr>\n",
       "    <tr>\n",
       "      <th>4</th>\n",
       "      <td>DSC_1133.JPG</td>\n",
       "      <td>Hemigrammus</td>\n",
       "      <td>50.550461</td>\n",
       "      <td>Hyphessobrycon</td>\n",
       "      <td>22.262682</td>\n",
       "      <td>Characidium</td>\n",
       "      <td>8.108934</td>\n",
       "      <td>Phenacogaster</td>\n",
       "      <td>7.896333</td>\n",
       "      <td>Moenkhausia</td>\n",
       "      <td>3.263180</td>\n",
       "    </tr>\n",
       "  </tbody>\n",
       "</table>\n",
       "</div>"
      ],
      "text/plain": [
       "      file_name        class_1     conf_1         class_2     conf_2  \\\n",
       "0  DSC_1318.JPG          Tatia  26.972580       Ancistrus  25.828689   \n",
       "1  DSC_0735.JPG  Phenacogaster  88.905293     Moenkhausia   6.524772   \n",
       "2  DSC_0728.JPG    Moenkhausia  33.746868     Hemigrammus  31.196511   \n",
       "3  DSC_1206.JPG     Pyrrhulina  34.069294     Moenkhausia  29.149905   \n",
       "4  DSC_1133.JPG    Hemigrammus  50.550461  Hyphessobrycon  22.262682   \n",
       "\n",
       "          class_3     conf_3        class_4     conf_4         class_5  \\\n",
       "0      Erythrinus  17.470473      Corydoras  17.456527     Pimelodella   \n",
       "1  Hyphessobrycon   3.306469       Astyanax   0.330312     Tyttocharax   \n",
       "2          Charax  10.753255     Creagrutus   9.553058       Bryconops   \n",
       "3   Phenacogaster  20.571911       Astyanax  11.253992  Hyphessobrycon   \n",
       "4     Characidium   8.108934  Phenacogaster   7.896333     Moenkhausia   \n",
       "\n",
       "     conf_5  \n",
       "0  3.097814  \n",
       "1  0.280693  \n",
       "2  7.096016  \n",
       "3  1.750551  \n",
       "4  3.263180  "
      ]
     },
     "execution_count": 6,
     "metadata": {},
     "output_type": "execute_result"
    }
   ],
   "source": [
    "nov_results = pd.read_csv('november_2019_results.tsv', sep='\\t')\n",
    "nov_results.head()"
   ]
  },
  {
   "cell_type": "code",
   "execution_count": 7,
   "metadata": {
    "ExecuteTime": {
     "end_time": "2020-03-03T02:21:16.930901Z",
     "start_time": "2020-03-03T02:21:16.925913Z"
    }
   },
   "outputs": [
    {
     "data": {
      "text/plain": [
       "1170"
      ]
     },
     "execution_count": 7,
     "metadata": {},
     "output_type": "execute_result"
    }
   ],
   "source": [
    "len(nov_results)"
   ]
  },
  {
   "cell_type": "code",
   "execution_count": 8,
   "metadata": {
    "ExecuteTime": {
     "end_time": "2020-03-03T02:21:16.945053Z",
     "start_time": "2020-03-03T02:21:16.933428Z"
    }
   },
   "outputs": [
    {
     "data": {
      "text/plain": [
       "1065"
      ]
     },
     "execution_count": 8,
     "metadata": {},
     "output_type": "execute_result"
    }
   ],
   "source": [
    "merged_results = expanded_df.merge(nov_results, on='file_name')\n",
    "len(merged_results)"
   ]
  },
  {
   "cell_type": "code",
   "execution_count": 9,
   "metadata": {
    "ExecuteTime": {
     "end_time": "2020-03-03T02:21:16.972453Z",
     "start_time": "2020-03-03T02:21:16.946411Z"
    }
   },
   "outputs": [],
   "source": [
    "merged_results.to_csv('amazon_fish_merged_results.tsv', sep='\\t', index=False)"
   ]
  },
  {
   "cell_type": "code",
   "execution_count": 10,
   "metadata": {
    "ExecuteTime": {
     "end_time": "2020-03-03T02:21:16.981927Z",
     "start_time": "2020-03-03T02:21:16.974654Z"
    }
   },
   "outputs": [
    {
     "data": {
      "text/plain": [
       "345"
      ]
     },
     "execution_count": 10,
     "metadata": {},
     "output_type": "execute_result"
    }
   ],
   "source": [
    "len(merged_results[merged_results['Genero'] == merged_results['class_1']])"
   ]
  },
  {
   "cell_type": "code",
   "execution_count": 11,
   "metadata": {
    "ExecuteTime": {
     "end_time": "2020-03-03T02:21:16.989631Z",
     "start_time": "2020-03-03T02:21:16.983097Z"
    }
   },
   "outputs": [
    {
     "data": {
      "text/plain": [
       "483"
      ]
     },
     "execution_count": 11,
     "metadata": {},
     "output_type": "execute_result"
    }
   ],
   "source": [
    "len(merged_results[(merged_results['Genero'] == merged_results['class_1']) |\n",
    "                   (merged_results['Genero'] == merged_results['class_2']) |\n",
    "                   (merged_results['Genero'] == merged_results['class_3'])])"
   ]
  },
  {
   "cell_type": "code",
   "execution_count": 12,
   "metadata": {
    "ExecuteTime": {
     "end_time": "2020-03-03T02:21:16.994714Z",
     "start_time": "2020-03-03T02:21:16.991174Z"
    }
   },
   "outputs": [],
   "source": [
    "genera = ['Ancistrus', 'Apistogramma', 'Astyanax', 'Bario', 'Bryconops', 'Bujurquina',\n",
    "           'Bunocephalus', 'Characidium', 'Charax', 'Copella', 'Corydoras', 'Creagrutus',\n",
    "           'Curimata', 'Doras', 'Erythrinus', 'Gasteropelecus', 'Gymnotus', 'Hemigrammus',\n",
    "           'Hyphessobrycon', 'Moenkhausia', 'Otocinclus', 'Oxyropsis', 'Phenacogaster',\n",
    "           'Pimelodella', 'Prochilodus', 'Pygocentrus', 'Pyrrhulina', 'Rineloricaria', 'Sorubim',\n",
    "           'Tatia', 'Tetragonopterus', 'Tyttocharax']"
   ]
  },
  {
   "cell_type": "code",
   "execution_count": 13,
   "metadata": {
    "ExecuteTime": {
     "end_time": "2020-03-03T02:21:17.000389Z",
     "start_time": "2020-03-03T02:21:16.996103Z"
    }
   },
   "outputs": [
    {
     "data": {
      "text/plain": [
       "751"
      ]
     },
     "execution_count": 13,
     "metadata": {},
     "output_type": "execute_result"
    }
   ],
   "source": [
    "existing_gen = expanded_df[expanded_df['Genero'].isin(genera)]\n",
    "len(existing_gen)"
   ]
  },
  {
   "cell_type": "code",
   "execution_count": 14,
   "metadata": {
    "ExecuteTime": {
     "end_time": "2020-03-03T02:21:17.013482Z",
     "start_time": "2020-03-03T02:21:17.001763Z"
    }
   },
   "outputs": [
    {
     "data": {
      "text/plain": [
       "748"
      ]
     },
     "execution_count": 14,
     "metadata": {},
     "output_type": "execute_result"
    }
   ],
   "source": [
    "merged_existing = existing_gen.merge(nov_results, on='file_name')\n",
    "len(merged_existing)"
   ]
  },
  {
   "cell_type": "code",
   "execution_count": 15,
   "metadata": {
    "ExecuteTime": {
     "end_time": "2020-03-03T02:21:17.025331Z",
     "start_time": "2020-03-03T02:21:17.015340Z"
    }
   },
   "outputs": [
    {
     "data": {
      "text/plain": [
       "483"
      ]
     },
     "execution_count": 15,
     "metadata": {},
     "output_type": "execute_result"
    }
   ],
   "source": [
    "len(merged_existing[(merged_existing['Genero'] == merged_existing['class_1']) |\n",
    "                   (merged_existing['Genero'] == merged_existing['class_2']) |\n",
    "                   (merged_existing['Genero'] == merged_existing['class_3'])])"
   ]
  },
  {
   "cell_type": "code",
   "execution_count": 16,
   "metadata": {
    "ExecuteTime": {
     "end_time": "2020-03-03T02:24:26.822359Z",
     "start_time": "2020-03-03T02:24:26.812329Z"
    }
   },
   "outputs": [
    {
     "data": {
      "text/plain": [
       "536"
      ]
     },
     "execution_count": 16,
     "metadata": {},
     "output_type": "execute_result"
    }
   ],
   "source": [
    "len(merged_existing[(merged_existing['Genero'] == merged_existing['class_1']) |\n",
    "                   (merged_existing['Genero'] == merged_existing['class_2']) |\n",
    "                   (merged_existing['Genero'] == merged_existing['class_3']) |\n",
    "                   (merged_existing['Genero'] == merged_existing['class_4']) |\n",
    "                   (merged_existing['Genero'] == merged_existing['class_5'])])"
   ]
  },
  {
   "cell_type": "code",
   "execution_count": null,
   "metadata": {},
   "outputs": [],
   "source": []
  }
 ],
 "metadata": {
  "kernelspec": {
   "display_name": "Python 3",
   "language": "python",
   "name": "python3"
  },
  "language_info": {
   "codemirror_mode": {
    "name": "ipython",
    "version": 3
   },
   "file_extension": ".py",
   "mimetype": "text/x-python",
   "name": "python",
   "nbconvert_exporter": "python",
   "pygments_lexer": "ipython3",
   "version": "3.7.1"
  }
 },
 "nbformat": 4,
 "nbformat_minor": 2
}
